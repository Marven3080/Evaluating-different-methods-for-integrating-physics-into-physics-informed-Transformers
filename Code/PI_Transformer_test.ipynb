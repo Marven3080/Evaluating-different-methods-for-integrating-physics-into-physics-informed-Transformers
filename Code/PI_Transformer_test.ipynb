{
 "cells": [
  {
   "cell_type": "code",
   "execution_count": 9,
   "id": "2891525d-eebf-43dd-8a57-9b48137e6259",
   "metadata": {},
   "outputs": [
    {
     "name": "stdout",
     "output_type": "stream",
     "text": [
      "numpy: 1.25.2\n",
      "pandas: 2.2.3\n",
      "torch: 2.8.0+cu126\n",
      "transformers: 4.55.2\n",
      "scikit-learn: 1.7.1\n",
      "joblib: 1.5.1\n",
      "matplotlib: 3.6.3\n",
      "IPython: 8.30.0\n",
      "scipy: 1.9.3\n"
     ]
    }
   ],
   "source": [
    "import numpy as np\n",
    "import pandas as pd\n",
    "import torch\n",
    "import transformers\n",
    "import sklearn\n",
    "import joblib\n",
    "import matplotlib\n",
    "import IPython\n",
    "import scipy\n",
    "\n",
    "print(\"numpy:\", np.__version__)\n",
    "print(\"pandas:\", pd.__version__)\n",
    "print(\"torch:\", torch.__version__)\n",
    "print(\"transformers:\", transformers.__version__)\n",
    "print(\"scikit-learn:\", sklearn.__version__)\n",
    "print(\"joblib:\", joblib.__version__)\n",
    "print(\"matplotlib:\", matplotlib.__version__)\n",
    "print(\"IPython:\", IPython.__version__)\n",
    "print(\"scipy:\", scipy.__version__)"
   ]
  },
  {
   "cell_type": "code",
   "execution_count": 3,
   "id": "3a582f23-817b-41ea-8302-a8b1fb65bda7",
   "metadata": {
    "id": "3a582f23-817b-41ea-8302-a8b1fb65bda7"
   },
   "outputs": [],
   "source": [
    "import os\n",
    "import math\n",
    "from dataclasses import dataclass\n",
    "from typing import Tuple, List\n",
    "\n",
    "import numpy as np\n",
    "import pandas as pd\n",
    "import torch\n",
    "import torch.nn as nn\n",
    "import torch.nn.functional as F\n",
    "import torch.optim as optim\n",
    "from torch.utils.data import DataLoader, Dataset\n",
    "from transformers import AutoConfig, AutoModel\n",
    "from sklearn.preprocessing import MinMaxScaler\n",
    "import joblib\n",
    "\n",
    "import matplotlib.pyplot as plt\n",
    "from IPython import display\n",
    "from matplotlib.ticker import MaxNLocator\n",
    "from scipy.interpolate import CubicSpline"
   ]
  },
  {
   "cell_type": "markdown",
   "id": "b9d1920c-24b6-4fab-8162-91c7285ce984",
   "metadata": {
    "id": "b9d1920c-24b6-4fab-8162-91c7285ce984"
   },
   "source": [
    "## Parameter"
   ]
  },
  {
   "cell_type": "code",
   "execution_count": 228,
   "id": "4773ec3f-c5a4-413a-80ee-b573f40f9b9b",
   "metadata": {
    "id": "4773ec3f-c5a4-413a-80ee-b573f40f9b9b"
   },
   "outputs": [],
   "source": [
    "class Config:\n",
    "    # I, V, t column names in your exce\n",
    "    INPUT_COLS = [\"Current(A)\", \"Voltage(V)\", \"Time(s)\"]\n",
    "    TARGET_COLS = [\"Voltage(V)\", \"SoC(%)\"]\n",
    "\n",
    "    OCV_FILE_PATH = '/content/drive/MyDrive/Masterarbeit/RCModel/OCV/OCVN10.xlsx'\n",
    "    TRAIN_FILE_PATH = '/content/drive/MyDrive/Masterarbeit/RCModel/-10/N10_A1-007_US06.xlsx'\n",
    "    Model_SAVE_DIR = \"/content/drive/MyDrive/Masterarbeit/PIT_Models/\"\n",
    "\n",
    "    SEQ_LEN = 6000\n",
    "    TRAIN_SPLIT = 0.8\n",
    "\n",
    "    # head dims\n",
    "    INPUT_DIM = 3\n",
    "    HEAD_DIM = 5\n",
    "\n",
    "    EPOCHS = 5000\n",
    "    BATCH_SIZE = 100\n",
    "    LR = 1e-4\n",
    "    WEIGHT_DECAY = 0.0\n",
    "\n",
    "    # battery constants\n",
    "    ETA = 1.08 # coulombic efficiency\n",
    "    Q_Ah = 1.1 # rated capacity [Ah]\n",
    "\n",
    "    # loss weights (paper: α=0.2 for voltage; β=1.0 for SOC dynamics)\n",
    "    ALPHA = 0.2\n",
    "    BETA = 1.0\n",
    "\n",
    "cfg = Config()"
   ]
  },
  {
   "cell_type": "code",
   "execution_count": 229,
   "id": "d4e360d8-44d2-4337-bb16-5b8735af8f4f",
   "metadata": {
    "id": "d4e360d8-44d2-4337-bb16-5b8735af8f4f"
   },
   "outputs": [],
   "source": [
    "scaler_path = os.path.join(cfg.Model_SAVE_DIR, '-10IT_US06_scaler.joblib')"
   ]
  },
  {
   "cell_type": "markdown",
   "id": "4mqKhc1atHk9",
   "metadata": {
    "id": "4mqKhc1atHk9"
   },
   "source": []
  },
  {
   "cell_type": "code",
   "execution_count": 230,
   "id": "aa6644ae-9a0f-453a-8219-6c9283ce0df0",
   "metadata": {
    "colab": {
     "base_uri": "https://localhost:8080/"
    },
    "id": "aa6644ae-9a0f-453a-8219-6c9283ce0df0",
    "outputId": "a620b0b4-5b1e-4a20-fba7-87d9077f52b7"
   },
   "outputs": [
    {
     "name": "stdout",
     "output_type": "stream",
     "text": [
      "Using device: cuda\n"
     ]
    }
   ],
   "source": [
    "device = torch.device(\"cuda\" if torch.cuda.is_available() else \"cpu\")\n",
    "print(f\"Using device: {device}\")"
   ]
  },
  {
   "cell_type": "markdown",
   "id": "16420e2a-28df-49b8-b1e4-8b508a28ec55",
   "metadata": {
    "id": "16420e2a-28df-49b8-b1e4-8b508a28ec55"
   },
   "source": [
    "## OCV - SoC"
   ]
  },
  {
   "cell_type": "code",
   "execution_count": 231,
   "id": "071d1bce-1192-4a3c-8ae6-f7b8bf4e8890",
   "metadata": {
    "id": "071d1bce-1192-4a3c-8ae6-f7b8bf4e8890"
   },
   "outputs": [],
   "source": [
    "def ocv_lookup_from_excel(ocv_path: str, device: torch.device):\n",
    "\n",
    "\n",
    "    # 1. 使用pandas加载和清洗数据\n",
    "    df = pd.read_excel(ocv_path)\n",
    "    soc_col, v_col = 'SoC(%)', 'Voltage(V)'\n",
    "    df = df.dropna(subset=[soc_col, v_col])\n",
    "    # 确保数据点在[0,1]之间且按SOC排序\n",
    "    df = df[(df[soc_col] >= 0.0) & (df[soc_col] <= 1.0)]\n",
    "    df = df.sort_values(by=soc_col).drop_duplicates(subset=[soc_col])\n",
    "\n",
    "    soc_np = df[soc_col].to_numpy(np.float64)\n",
    "    ocv_np = df[v_col].to_numpy(np.float64)\n",
    "\n",
    "    # 2. 使用scipy计算三次样条的系数\n",
    "    # 这是我们在模型训练外唯一一次使用scipy\n",
    "    cs = CubicSpline(soc_np, ocv_np, bc_type='natural') # 使用自然边界条件\n",
    "\n",
    "    # 3. 提取样条曲线的参数（节点和系数）并转换为PyTorch张量\n",
    "    # 节点 (knots)\n",
    "    knots = torch.tensor(cs.x, dtype=torch.float32, device=device)\n",
    "    # 节点处的OCV值\n",
    "    knots_ocv = torch.tensor(ocv_np, dtype=torch.float32, device=device)\n",
    "    # 分段多项式系数，cs.c的形状为(4, n-1)，对应(x-x_i)的3,2,1,0次幂系数\n",
    "    coeffs = torch.tensor(cs.c, dtype=torch.float32, device=device)\n",
    "\n",
    "    # 4. 返回一个完全可微的、使用PyTorch实现的样条插值函数\n",
    "    def ocv_fn(soc_q: torch.Tensor) -> torch.Tensor:\n",
    "        \"\"\"\n",
    "        根据输入的SOC张量，使用预计算的样条系数计算OCV。\n",
    "        - 内部插值: 使用分段三次多项式。\n",
    "        - 外部插值: 使用边界点的一阶导数进行线性外插。\n",
    "        此函数完全可微。\n",
    "        \"\"\"\n",
    "        # 创建一个用于存放结果的空张量\n",
    "        y = torch.zeros_like(soc_q)\n",
    "\n",
    "        # 识别三个区域：低于下边界、在边界内、高于上边界\n",
    "        is_below = soc_q < knots[0]\n",
    "        is_above = soc_q > knots[-1]\n",
    "        is_within = ~(is_below | is_above)\n",
    "\n",
    "        # --- a) 处理在边界内的值 ---\n",
    "        if torch.any(is_within):\n",
    "            soc_within = soc_q[is_within]\n",
    "\n",
    "            # 使用searchsorted高效地找到每个soc值所在的区间索引\n",
    "            indices = torch.searchsorted(knots, soc_within, right=True) - 1\n",
    "            # 钳制索引以防万一（数值精度问题）\n",
    "            indices = torch.clamp(indices, 0, len(knots) - 2)\n",
    "\n",
    "            # 提取对应区间的参数\n",
    "            x_i = knots[indices]\n",
    "            a_i, b_i, c_i, d_i = coeffs[0, indices], coeffs[1, indices], coeffs[2, indices], coeffs[3, indices]\n",
    "\n",
    "            # 计算分段三次多项式: a(x-xi)^3 + b(x-xi)^2 + c(x-xi) + d\n",
    "            dx = soc_within - x_i\n",
    "            y_within = a_i * dx**3 + b_i * dx**2 + c_i * dx + d_i\n",
    "            y[is_within] = y_within\n",
    "\n",
    "        # --- b) 处理低于下边界的值 (线性外插) ---\n",
    "        if torch.any(is_below):\n",
    "            # 样条在第一个节点处的导数(斜率)是c_0\n",
    "            slope_low = coeffs[2, 0]\n",
    "            # 使用点斜式 y = y1 + m(x - x1)\n",
    "            y_low = knots_ocv[0] + slope_low * (soc_q[is_below] - knots[0])\n",
    "            y[is_below] = y_low\n",
    "\n",
    "        # --- c) 处理高于上边界的值 (线性外插) ---\n",
    "        if torch.any(is_above):\n",
    "            # 计算样条在最后一个节点处的导数(斜率)\n",
    "            last_idx = len(knots) - 2\n",
    "            x_i, x_ip1 = knots[last_idx], knots[last_idx + 1]\n",
    "            a_i, b_i, c_i = coeffs[0, last_idx], coeffs[1, last_idx], coeffs[2, last_idx]\n",
    "            dx_end = x_ip1 - x_i\n",
    "            slope_high = 3 * a_i * dx_end**2 + 2 * b_i * dx_end + c_i\n",
    "\n",
    "            # 使用点斜式 y = y1 + m(x - x1)\n",
    "            y_high = knots_ocv[-1] + slope_high * (soc_q[is_above] - knots[-1])\n",
    "            y[is_above] = y_high\n",
    "\n",
    "        return y\n",
    "\n",
    "    print(f\"OCV-SoC curve loaded and wrapped as a differentiable spline function.\")\n",
    "    return ocv_fn"
   ]
  },
  {
   "cell_type": "code",
   "execution_count": 232,
   "id": "145980b1-5da4-43a4-a77b-82b5ba8df4ca",
   "metadata": {
    "colab": {
     "base_uri": "https://localhost:8080/"
    },
    "id": "145980b1-5da4-43a4-a77b-82b5ba8df4ca",
    "outputId": "283a9249-7592-4d6f-c2f2-8f94bcc23e2d"
   },
   "outputs": [
    {
     "name": "stdout",
     "output_type": "stream",
     "text": [
      "OCV-SoC curve loaded and wrapped as a differentiable spline function.\n",
      "tensor([3.2212, 3.2573], device='cuda:0')\n"
     ]
    }
   ],
   "source": [
    "ocv_file_path = cfg.OCV_FILE_PATH\n",
    "ocv_func = ocv_lookup_from_excel(ocv_file_path, device)\n",
    "test_soc = torch.tensor([0.5, 0.8]).to(device)\n",
    "corresponding_ocv = ocv_func(test_soc)\n",
    "print(corresponding_ocv)"
   ]
  },
  {
   "cell_type": "markdown",
   "id": "529b1875-9cb2-4971-9011-5dfe1aba200a",
   "metadata": {
    "id": "529b1875-9cb2-4971-9011-5dfe1aba200a"
   },
   "source": [
    "## Load Data"
   ]
  },
  {
   "cell_type": "code",
   "execution_count": 233,
   "id": "dd6bdb3d-b34f-4cda-82fb-264b546b0f2b",
   "metadata": {
    "id": "dd6bdb3d-b34f-4cda-82fb-264b546b0f2b"
   },
   "outputs": [],
   "source": [
    "class BatteryDataset(Dataset):\n",
    "\n",
    "    def __init__(self, df: pd.DataFrame, seq_len: int, scaler: MinMaxScaler, config: \"Config\"):\n",
    "\n",
    "        self.seq_len = seq_len\n",
    "        self.scaler = scaler\n",
    "\n",
    "        # 1. 清洗数据\n",
    "        df_clean = df.dropna(subset=[*config.INPUT_COLS, *config.TARGET_COLS])\n",
    "        df_clean = df_clean[(df_clean[config.TARGET_COLS[1]] > 0.0) & (df_clean[config.TARGET_COLS[1]] < 1.0)]\n",
    "\n",
    "        # 2. 提取并转换数据为Tensor\n",
    "        inputs_raw = df_clean.loc[:, config.INPUT_COLS].to_numpy(np.float32)\n",
    "        model_inputs = df_clean.loc[:, config.INPUT_COLS].to_numpy(np.float32)\n",
    "        targets = df_clean.loc[:, config.TARGET_COLS].to_numpy(np.float32)\n",
    "        inputs_scaled = self.scaler.transform(model_inputs)\n",
    "\n",
    "        self.scaled_data = torch.from_numpy(inputs_scaled)\n",
    "        self.raw_data = torch.from_numpy(inputs_raw)\n",
    "        self.target_data = torch.from_numpy(targets)\n",
    "\n",
    "        n_samples = len(df_clean)\n",
    "\n",
    "        if n_samples >= self.seq_len:\n",
    "            # 模式1：长度足够，进行非重叠分块，并舍弃末尾\n",
    "            self.num_sequences = n_samples // self.seq_len\n",
    "            self._mode = 'chunking'  # 设置模式为“分块”\n",
    "        else:\n",
    "            # 模式2：长度不足，将整体作为一个序列\n",
    "            self.num_sequences = 1 if n_samples > 0 else 0 # 如果清洗后为空则序列数为0\n",
    "            self._mode = 'full'      # 设置模式为“整体”\n",
    "\n",
    "\n",
    "    def __len__(self):\n",
    "        return self.num_sequences\n",
    "\n",
    "    def __getitem__(self, idx: int):\n",
    "\n",
    "        if self._mode == 'chunking':\n",
    "            # 在“分块”模式下，返回第idx个不重叠的块\n",
    "            start_idx = idx * self.seq_len\n",
    "            end_idx = start_idx + self.seq_len\n",
    "\n",
    "            scaled_inputs = self.scaled_data[start_idx:end_idx]\n",
    "            raw_inputs = self.raw_data[start_idx:end_idx]\n",
    "            targets = self.target_data[start_idx:end_idx]\n",
    "\n",
    "        else: # self._mode == 'full'\n",
    "            # 在“整体”模式下，直接返回全部数据\n",
    "            # 此时 idx 必然为 0\n",
    "            scaled_inputs = self.scaled_data\n",
    "            raw_inputs = self.raw_data\n",
    "            targets = self.target_data\n",
    "\n",
    "        return scaled_inputs, raw_inputs, targets"
   ]
  },
  {
   "cell_type": "markdown",
   "id": "f6661424-9b70-4e54-babb-9a96cac0a23d",
   "metadata": {
    "id": "f6661424-9b70-4e54-babb-9a96cac0a23d"
   },
   "source": [
    "## Model Structure"
   ]
  },
  {
   "cell_type": "code",
   "execution_count": 234,
   "id": "s77HWIC3gqwd",
   "metadata": {
    "id": "s77HWIC3gqwd"
   },
   "outputs": [],
   "source": [
    "class PITransformer(nn.Module):\n",
    "    def __init__(self, backbone: nn.Module, in_dim: int, out_dim: int):\n",
    "        super().__init__()\n",
    "        self.d_model = backbone.config.hidden_size\n",
    "        self.in_proj = nn.Linear(in_dim, self.d_model)\n",
    "        self.backbone = backbone\n",
    "\n",
    "        # 单一的输出头，输出5个物理量\n",
    "        self.head = nn.Linear(self.d_model, out_dim)\n",
    "\n",
    "\n",
    "\n",
    "    def forward(self, x: torch.Tensor) -> torch.Tensor:\n",
    "        x = self.in_proj(x)\n",
    "        out = self.backbone(inputs_embeds=x).last_hidden_state\n",
    "\n",
    "        output = self.head(out)\n",
    "\n",
    "\n",
    "        R0 = torch.nn.functional.softplus(output[:, :, 0])\n",
    "        R1 = torch.nn.functional.softplus(output[:, :, 1])\n",
    "        C1 = torch.nn.functional.softplus(output[:, :, 2])\n",
    "        SOC = 1.5 * torch.sigmoid(output[:, :, 3]) - 0.25\n",
    "        Uoc = output[:, :, 4]\n",
    "\n",
    "\n",
    "        y = torch.stack([R0, R1, C1, SOC, Uoc], dim=-1)  # (batch, seq_len, 5)\n",
    "\n",
    "\n",
    "        return y"
   ]
  },
  {
   "cell_type": "code",
   "execution_count": 235,
   "id": "guV6rTYsKN2u",
   "metadata": {
    "id": "guV6rTYsKN2u"
   },
   "outputs": [],
   "source": [
    "class Transformer(nn.Module):\n",
    "\n",
    "    def __init__(self, backbone: nn.Module, in_dim: int):\n",
    "        super().__init__()\n",
    "        self.d_model = backbone.config.hidden_size\n",
    "        self.in_proj = nn.Linear(in_dim, self.d_model)\n",
    "        self.backbone = backbone\n",
    "        self.head = nn.Sequential(\n",
    "            nn.Linear(self.d_model, 1),\n",
    "            #nn.Sigmoid()\n",
    "        )\n",
    "\n",
    "\n",
    "    def forward(self, x: torch.Tensor) -> torch.Tensor:\n",
    "        x = self.in_proj(x)\n",
    "        out = self.backbone(inputs_embeds=x).last_hidden_state\n",
    "        soc = self.head(out)\n",
    "        return soc.squeeze(-1) # Shape: (B, L)"
   ]
  },
  {
   "cell_type": "markdown",
   "id": "4efab831-2a5a-42bc-a1a0-cd4c23658cfe",
   "metadata": {
    "id": "4efab831-2a5a-42bc-a1a0-cd4c23658cfe"
   },
   "source": [
    "## Physics Loss"
   ]
  },
  {
   "cell_type": "code",
   "execution_count": 236,
   "id": "ef76c9e7-2848-4b25-a446-1b7d29c7d8c7",
   "metadata": {
    "id": "ef76c9e7-2848-4b25-a446-1b7d29c7d8c7"
   },
   "outputs": [],
   "source": [
    "class PhysLoss(nn.Module):\n",
    "    def __init__(self, ocv_fn, eta: float, Q_Ah: float, alpha: float, beta: float):\n",
    "        super().__init__()\n",
    "        self.ocv_fn = ocv_fn\n",
    "        self.eta = eta\n",
    "        self.Q_As = Q_Ah * 3600.0\n",
    "        self.alpha = alpha\n",
    "        self.beta = beta\n",
    "        self.mse = nn.MSELoss()\n",
    "\n",
    "    def forward(self, pred: torch.Tensor, raw_inputs: torch.Tensor, targets: torch.Tensor):\n",
    "        \"\"\"pred: (B,L,5) -> [R0,R1,C1,SOC,UOC]\n",
    "        raw_inputs: (B,L,3) -> [I,V,t] (UNSCALED)\n",
    "        targets: (B,L,2) -> [V_true, SOC_true]\n",
    "        \"\"\"\n",
    "        I = raw_inputs[..., 0]\n",
    "        V_true = targets[..., 0]\n",
    "        t = raw_inputs[..., 2]\n",
    "\n",
    "        R0 = pred[..., 0]\n",
    "        R1 = pred[..., 1]\n",
    "        C1 = pred[..., 2]\n",
    "        SOC = pred[..., 3]\n",
    "        UOC = pred[..., 4]\n",
    "\n",
    "        # dt per step; replicate last to keep shape (B,L)\n",
    "        dt = t[:, 1:] - t[:, :-1]\n",
    "        dt = torch.cat([dt, dt[:, -1:]], dim=1)\n",
    "\n",
    "        # RC branch current I1 (per paper Eq.5)\n",
    "        tau = (R1 * C1).clamp_min(1e-6)\n",
    "\n",
    "        I1_list = []\n",
    "\n",
    "        # 2. 将 I1 的初始值（即 I 的第一个点）作为列表的第一个元素\n",
    "        initial_I1 = I[:, 0]\n",
    "        I1_list.append(initial_I1)\n",
    "\n",
    "        # 3. 在循环中，计算下一步的值，并将其 append 到列表中\n",
    "        tau = (R1 * C1).clamp_min(1e-6)\n",
    "        for k in range(I.shape[1] - 1):\n",
    "            a = torch.exp(-dt[:, k] / tau[:, k])\n",
    "            # I1_list[-1] 获取上一步的 I1 值\n",
    "            I1_next = a * I1_list[-1] + (1.0 - a) * I[:, k]\n",
    "            I1_list.append(I1_next)\n",
    "\n",
    "        # 4. 循环结束后，将列表中的所有张量堆叠成一个最终的 I1 张量\n",
    "        #    这个操作是“非原地的”，会创建一个全新的张量\n",
    "        I1 = torch.stack(I1_list, dim=1)\n",
    "\n",
    "\n",
    "        # Predicted terminal voltage UL\n",
    "        U0 = R0 * I\n",
    "        V_pred = UOC - R1 * I1 - U0\n",
    "\n",
    "        # 1) terminal voltage fit loss\n",
    "        loss_ul = self.mse(V_pred, V_true)\n",
    "\n",
    "        # 2) OCV-SOC consistency: UOC ≈ h(SOC)\n",
    "        UOC_ref = self.ocv_fn(SOC) #SOC.detach()\n",
    "        loss_uoc = self.mse(UOC, UOC_ref)\n",
    "\n",
    "\n",
    "\n",
    "\n",
    "        rhs_instant = -(self.eta / self.Q_As) * I[:, :-1] * dt[:, :-1]\n",
    "        rhs_instant = torch.clamp(rhs_instant, min=-0.01, max=0.01)  # Prevent extremes\n",
    "\n",
    "        # 2. 计算理论上的 “累积” 变化量 (对rhs进行累加)\n",
    "        #    torch.cumsum 会计算累积和\n",
    "        #    我们在开头补零，使其长度与SOC序列匹配\n",
    "        rhs_cumulative = torch.cat([torch.zeros_like(rhs_instant[:, 0:1]), torch.cumsum(rhs_instant, dim=1)], dim=1)\n",
    "\n",
    "        # 3. 计算模型预测的 “累积” 变化量\n",
    "        #    用每个点的SoC减去序列的第一个点SoC\n",
    "        soc_initial = SOC[:, 0:1] # 保持维度以便广播\n",
    "        soc_pred_cumulative_change = SOC - soc_initial\n",
    "\n",
    "        # 4. 计算累积形式的PDE损失\n",
    "        #    强制模型的累积变化与理论的累积变化相匹配\n",
    "        loss_soc = self.mse(soc_pred_cumulative_change, rhs_cumulative)\n",
    "\n",
    "        total = self.alpha * (loss_ul + loss_uoc) + self.beta * loss_soc\n",
    "        return total, loss_ul, loss_uoc, loss_soc\n"
   ]
  },
  {
   "cell_type": "markdown",
   "id": "ed482c0f-0a43-4132-9b67-a738d2c5d0ec",
   "metadata": {
    "id": "ed482c0f-0a43-4132-9b67-a738d2c5d0ec"
   },
   "source": [
    "## Training"
   ]
  },
  {
   "cell_type": "markdown",
   "id": "5fcefdc3-e0ec-45cc-b5d0-0c9804b09f6d",
   "metadata": {
    "id": "5fcefdc3-e0ec-45cc-b5d0-0c9804b09f6d"
   },
   "source": [
    "## main"
   ]
  },
  {
   "cell_type": "code",
   "execution_count": 237,
   "id": "ac7566ec-0eaa-45a0-997b-ea9aa6ca47c4",
   "metadata": {
    "colab": {
     "base_uri": "https://localhost:8080/"
    },
    "id": "ac7566ec-0eaa-45a0-997b-ea9aa6ca47c4",
    "outputId": "8d1a287f-af63-42dd-cbbb-24b8696a8574"
   },
   "outputs": [
    {
     "name": "stdout",
     "output_type": "stream",
     "text": [
      "--- Loading and Splitting Data ---\n",
      "Data split: 4074 for training, 1019 for validation.\n"
     ]
    }
   ],
   "source": [
    "# --- 步骤一: 加载数据并进行划分 ---\n",
    "print(\"--- Loading and Splitting Data ---\")\n",
    "full_df = pd.read_excel(cfg.TRAIN_FILE_PATH)\n",
    "\n",
    "current_col = cfg.INPUT_COLS[0]  # \"Current(A)\"\n",
    "full_df[current_col] = full_df[current_col] * -1 #Discharge is POSITIVE!!!\n",
    "\n",
    "full_df = full_df[(full_df[cfg.TARGET_COLS[1]] > 0.0) & (full_df[cfg.TARGET_COLS[1]] < 1.0)]\n",
    "split_idx = int(len(full_df) * cfg.TRAIN_SPLIT)\n",
    "train_df = full_df.iloc[:split_idx]\n",
    "val_df = full_df.iloc[split_idx:]\n",
    "print(f\"Data split: {len(train_df)} for training, {len(val_df)} for validation.\")"
   ]
  },
  {
   "cell_type": "code",
   "execution_count": 238,
   "id": "n2VdUKyNKQZm",
   "metadata": {
    "colab": {
     "base_uri": "https://localhost:8080/"
    },
    "id": "n2VdUKyNKQZm",
    "outputId": "cab5e9e8-18d0-4b87-b0bf-1334b22a37b6"
   },
   "outputs": [
    {
     "name": "stderr",
     "output_type": "stream",
     "text": [
      "/usr/local/lib/python3.12/dist-packages/sklearn/utils/validation.py:2739: UserWarning: X does not have valid feature names, but MinMaxScaler was fitted with feature names\n",
      "  warnings.warn(\n",
      "/usr/local/lib/python3.12/dist-packages/sklearn/utils/validation.py:2739: UserWarning: X does not have valid feature names, but MinMaxScaler was fitted with feature names\n",
      "  warnings.warn(\n"
     ]
    },
    {
     "name": "stdout",
     "output_type": "stream",
     "text": [
      "OCV-SoC curve loaded and wrapped as a differentiable spline function.\n"
     ]
    }
   ],
   "source": [
    "scaler = joblib.load(scaler_path)\n",
    "\n",
    "sequence_len = len(train_df)\n",
    "\n",
    "train_dataset = BatteryDataset(train_df, sequence_len, scaler, cfg)\n",
    "train_loader = DataLoader(train_dataset, batch_size=cfg.BATCH_SIZE, shuffle=False)\n",
    "\n",
    "val_dataset = BatteryDataset(val_df, sequence_len, scaler, cfg)\n",
    "val_loader = DataLoader(val_dataset, batch_size=cfg.BATCH_SIZE, shuffle=False)\n",
    "\n",
    "ocv_fn = ocv_lookup_from_excel(cfg.OCV_FILE_PATH, device,)"
   ]
  },
  {
   "cell_type": "code",
   "execution_count": 239,
   "id": "31b44c1f-dfb4-48fd-82b2-66b29b852e87",
   "metadata": {
    "id": "31b44c1f-dfb4-48fd-82b2-66b29b852e87"
   },
   "outputs": [],
   "source": [
    "transformer_config = AutoConfig.from_pretrained(\n",
    "    \"bert-base-uncased\", # Use a standard config as a template\n",
    "    max_position_embeddings=9000,\n",
    "\n",
    "    # Increase model complexity for better performance on long sequences\n",
    "    hidden_size=128,              # Model dimension\n",
    "    num_hidden_layers=8,          # Number of encoder layers\n",
    "    num_attention_heads=8,        # Number of attention heads\n",
    "    intermediate_size=512         # Dimension of the FFN layer\n",
    ")\n",
    "\n",
    "# Initialize a model with this new configuration (random weights)\n",
    "transformer_backbone = AutoModel.from_config(config=transformer_config)\n",
    "pi_transformer_backbone = AutoModel.from_config(config=transformer_config)\n"
   ]
  },
  {
   "cell_type": "markdown",
   "id": "e0ea5864-871e-4b4a-ba37-84410916f4b3",
   "metadata": {
    "id": "e0ea5864-871e-4b4a-ba37-84410916f4b3"
   },
   "source": [
    "## Test and Visualization"
   ]
  },
  {
   "cell_type": "code",
   "execution_count": 240,
   "id": "7k0L0-IAOf1A",
   "metadata": {
    "id": "7k0L0-IAOf1A"
   },
   "outputs": [],
   "source": [
    "PI_model_path = os.path.join(cfg.Model_SAVE_DIR, '-10ITBEST_US06_model.pth')\n",
    "Data_model_path = os.path.join(cfg.Model_SAVE_DIR, 'bestTransformer_N10_US06_model.pth')\n"
   ]
  },
  {
   "cell_type": "code",
   "execution_count": 241,
   "id": "cE2d-txuTHeA",
   "metadata": {
    "colab": {
     "base_uri": "https://localhost:8080/"
    },
    "id": "cE2d-txuTHeA",
    "outputId": "d07a4fad-7378-4543-dfc4-62ba373ba4dc"
   },
   "outputs": [
    {
     "data": {
      "text/plain": [
       "<All keys matched successfully>"
      ]
     },
     "execution_count": 241,
     "metadata": {},
     "output_type": "execute_result"
    }
   ],
   "source": [
    "PI_model = PITransformer(\n",
    "    backbone=pi_transformer_backbone,\n",
    "    in_dim=cfg.INPUT_DIM,\n",
    "    out_dim=cfg.HEAD_DIM\n",
    ").to(device)\n",
    "\n",
    "Data_model = Transformer(\n",
    "    backbone=transformer_backbone,\n",
    "    in_dim=cfg.INPUT_DIM,\n",
    "    #out_dim=cfg.HEAD_DIM\n",
    ").to(device)\n",
    "\n",
    "PI_model.load_state_dict(torch.load(PI_model_path, map_location=device))\n",
    "Data_model.load_state_dict(torch.load(Data_model_path, map_location=device))"
   ]
  },
  {
   "cell_type": "code",
   "execution_count": 242,
   "id": "s-VVQzmncm3-",
   "metadata": {
    "id": "s-VVQzmncm3-"
   },
   "outputs": [],
   "source": [
    "loss_fn = PhysLoss(ocv_fn, eta=cfg.ETA, Q_Ah=cfg.Q_Ah, alpha=cfg.ALPHA, beta=cfg.BETA)"
   ]
  },
  {
   "cell_type": "code",
   "execution_count": 243,
   "id": "FiaWePkmcqRZ",
   "metadata": {
    "colab": {
     "base_uri": "https://localhost:8080/",
     "height": 626
    },
    "id": "FiaWePkmcqRZ",
    "outputId": "c0d500e1-fc73-4705-c17b-8dbcddc60d20"
   },
   "outputs": [
    {
     "name": "stdout",
     "output_type": "stream",
     "text": [
      "PI_SOC_RMSE: 0.0203 | PI_SOC_MAE: 0.0182 | DATA_SOC_RMSE: 0.2858 | DATA_SOC_MAE: 0.2842\n"
     ]
    },
    {
     "data": {
      "image/png": "[encoded data removed]",
      "text/plain": [
       "<Figure size 1200x600 with 1 Axes>"
      ]
     },
     "metadata": {},
     "output_type": "display_data"
    }
   ],
   "source": [
    "mse = nn.MSELoss()\n",
    "PI_model.eval()\n",
    "Data_model.eval()\n",
    "pi_soc_preds, data_soc_preds, soc_trues = [], [], []\n",
    "pi_all_soc_preds, data_all_soc_preds, all_soc_trues, pi_all_preds, data_all_preds, all_trues = None, None, None, None, None, None # 先进行初始化\n",
    "\n",
    "\n",
    "with torch.no_grad():\n",
    "\n",
    "      for xs_scaled, xs_raw, ys in val_loader:\n",
    "          xs_scaled, xs_raw, ys = xs_scaled.to(device), xs_raw.to(device), ys.to(device)\n",
    "          pi_pred = PI_model(xs_scaled)\n",
    "          data_pred = Data_model(xs_scaled)\n",
    "\n",
    "          pi_soc_preds.append(pi_pred[..., 3].detach().cpu())\n",
    "          data_soc_preds.append(data_pred.detach().cpu())\n",
    "          soc_trues.append(ys[..., 1].cpu())\n",
    "\n",
    "      pi_all_preds = torch.cat(pi_soc_preds).view(-1)\n",
    "      data_all_preds = torch.cat(data_soc_preds).view(-1)\n",
    "      all_trues = torch.cat(soc_trues).view(-1)\n",
    "\n",
    "      pi_all_soc_preds = pi_all_preds.numpy()\n",
    "      data_all_soc_preds = data_all_preds.numpy()\n",
    "      all_soc_trues = all_trues.numpy()\n",
    "\n",
    "      pi_soc_rmse = np.sqrt(np.mean((pi_all_soc_preds - all_soc_trues) ** 2))\n",
    "      pi_soc_mae = np.mean(np.abs(pi_all_soc_preds - all_soc_trues))\n",
    "\n",
    "      data_soc_rmse = np.sqrt(np.mean((data_all_soc_preds - all_soc_trues) ** 2))\n",
    "      data_soc_mae = np.mean(np.abs(data_all_soc_preds - all_soc_trues))\n",
    "\n",
    "\n",
    "\n",
    "\n",
    "print(f\"PI_SOC_RMSE: {pi_soc_rmse:.4f} | PI_SOC_MAE: {pi_soc_mae:.4f} | DATA_SOC_RMSE: {data_soc_rmse:.4f} | DATA_SOC_MAE: {data_soc_mae:.4f}\")\n",
    "\n",
    "\n",
    "\n",
    "\n",
    "fig, ax = plt.subplots(figsize=(12, 6))\n",
    "\n",
    "ax.plot(all_soc_trues, label='True SoC', color='blue', linewidth=2)\n",
    "ax.plot(pi_all_soc_preds, label='PI-Transformer', color='red', linestyle='--', linewidth=2)\n",
    "ax.plot(data_all_soc_preds, label='Transformer', color='orange', linestyle='--', linewidth=2)\n",
    "\n",
    "# 3. 设置图表的标题和标签\n",
    "#ax.set_title('Test Set: True vs. Predicted SoC', fontsize=18)\n",
    "ax.set_xlabel('Time (s)', fontsize=18)\n",
    "ax.set_ylabel('SoC (State of Charge)', fontsize=18)\n",
    "ax.grid(True)\n",
    "ax.legend(fontsize=18)\n",
    "ax.set_ylim(-0.1, 0.3)\n",
    "\n",
    "plt.tight_layout()\n",
    "\n",
    "save_path = \"/content/drive/MyDrive/Masterarbeit/PIT_Plots/20_FUDS\"\n",
    "#plt.savefig(save_path)\n",
    "\n",
    "\n",
    "plt.show()\n"
   ]
  },
  {
   "cell_type": "code",
   "execution_count": 243,
   "id": "0zmRrTg7flSh",
   "metadata": {
    "id": "0zmRrTg7flSh"
   },
   "outputs": [],
   "source": []
  }
 ],
 "metadata": {
  "accelerator": "GPU",
  "colab": {
   "collapsed_sections": [
    "16420e2a-28df-49b8-b1e4-8b508a28ec55",
    "529b1875-9cb2-4971-9011-5dfe1aba200a"
   ],
   "gpuType": "L4",
   "machine_shape": "hm",
   "provenance": []
  },
  "kernelspec": {
   "display_name": "Python 3 (ipykernel)",
   "language": "python",
   "name": "python3"
  },
  "language_info": {
   "codemirror_mode": {
    "name": "ipython",
    "version": 3
   },
   "file_extension": ".py",
   "mimetype": "text/x-python",
   "name": "python",
   "nbconvert_exporter": "python",
   "pygments_lexer": "ipython3",
   "version": "3.10.16"
  }
 },
 "nbformat": 4,
 "nbformat_minor": 5
}
